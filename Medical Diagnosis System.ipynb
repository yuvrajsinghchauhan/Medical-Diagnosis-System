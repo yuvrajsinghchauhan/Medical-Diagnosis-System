{
 "cells": [
  {
   "cell_type": "code",
   "execution_count": 2,
   "id": "cbb57c27",
   "metadata": {},
   "outputs": [
    {
     "name": "stdout",
     "output_type": "stream",
     "text": [
      "Do you have a fever (y/n):- y\n",
      "Do you have a rash (y/n):- n\n",
      "Do you have a runny nose (y/n):-y\n",
      "Do you have a conjunctivitis (y/n):-n\n",
      "Do you have a cough (y/n):-y\n",
      "Do you have a head ache (y/n):-y\n",
      "Do you have body ache (y/n):-n\n",
      "Do you have chills (y/n):-n\n",
      "Do you have a sore throat (y/n):-y\n",
      "Do you have sneezing (y/n):-y\n",
      "Do you have swollen glands (y/n):-n\n",
      "Result: You are diagnosed with measles\n"
     ]
    }
   ],
   "source": [
    "fever = input(\"Do you have a fever (y/n):- \")\n",
    "rashes= input(\"Do you have a rash (y/n):- \")\n",
    "runnyNose = input(\"Do you have a runny nose (y/n):-\")\n",
    "conjunctivitis= input(\"Do you have a conjunctivitis (y/n):-\")\n",
    "cough= input(\"Do you have a cough (y/n):-\")\n",
    "headAche=input(\"Do you have a head ache (y/n):-\")\n",
    "bodyAche= input(\"Do you have body ache (y/n):-\")\n",
    "chills= input(\"Do you have chills (y/n):-\")\n",
    "soreThroat= input(\"Do you have a sore throat (y/n):-\")\n",
    "sneezing= input(\"Do you have sneezing (y/n):-\")\n",
    "swollenGlands= input(\"Do you have swollen glands (y/n):-\")\n",
    "if fever=='y' and headAche== 'y' and runnyNose=='y' and rashes=='y':\n",
    "    print(\"Result: You are diagnosed with German measles\")\n",
    "elif cough==\"y\" and sneezing=='y' and runnyNose=='y':\n",
    "    print(\"Result: You are diagnosed with measles\")\n",
    "elif fever == 'y' and rashes== 'y' and bodyAche== 'y' and chills==\"y\":\n",
    "    print(\"Result: You are diagnosed with chicken pox\")\n",
    "elif fever == 'y' and swollenGlands== 'y':\n",
    "    print(\"Result: You are diagnosed with mumps\")\n",
    "elif fever == 'y' and headAche== 'y' and bodyAche==\"y\" and conjunctivitis==\"y\" and chills==\"y\" and cough==\"y\" and runnyNose==\"y\" and soreThroat==\"y\":\n",
    "    print(\"Result: You are diagnosed with flu\")"
   ]
  },
  {
   "cell_type": "code",
   "execution_count": null,
   "id": "a9b1d2f0",
   "metadata": {},
   "outputs": [],
   "source": []
  }
 ],
 "metadata": {
  "kernelspec": {
   "display_name": "Python 3 (ipykernel)",
   "language": "python",
   "name": "python3"
  },
  "language_info": {
   "codemirror_mode": {
    "name": "ipython",
    "version": 3
   },
   "file_extension": ".py",
   "mimetype": "text/x-python",
   "name": "python",
   "nbconvert_exporter": "python",
   "pygments_lexer": "ipython3",
   "version": "3.9.7"
  }
 },
 "nbformat": 4,
 "nbformat_minor": 5
}
